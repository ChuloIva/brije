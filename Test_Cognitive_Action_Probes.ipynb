{
  "cells": [
    {
      "cell_type": "markdown",
      "metadata": {},
      "source": [
        "# Cognitive Action Probe Testing\n",
        "\n",
        "Test your trained cognitive action probes on text.\n",
        "\n",
        "**Key Feature**: Automatically loads the best-performing layer for each action."
      ]
    },
    {
      "cell_type": "code",
      "execution_count": 1,
      "metadata": {},
      "outputs": [
        {
          "name": "stdout",
          "output_type": "stream",
          "text": [
            "AMD GPU detected - configuring ROCm environment variables\n"
          ]
        },
        {
          "name": "stderr",
          "output_type": "stream",
          "text": [
            "/home/koalacrown/Desktop/Code/Projects/brije/.venv/lib/python3.12/site-packages/tqdm/auto.py:21: TqdmWarning: IProgress not found. Please update jupyter and ipywidgets. See https://ipywidgets.readthedocs.io/en/stable/user_install.html\n",
            "  from .autonotebook import tqdm as notebook_tqdm\n"
          ]
        }
      ],
      "source": [
        "import sys\n",
        "from pathlib import Path\n",
        "import torch\n",
        "\n",
        "# Add src/probes to path\n",
        "sys.path.insert(0, str(Path.cwd() / 'src' / 'probes'))\n",
        "\n",
        "from best_multi_probe_inference import BestMultiProbeInferenceEngine\n",
        "from best_probe_loader import print_performance_summary"
      ]
    },
    {
      "cell_type": "markdown",
      "metadata": {},
      "source": [
        "## 1. View Probe Performance"
      ]
    },
    {
      "cell_type": "code",
      "execution_count": null,
      "metadata": {},
      "outputs": [],
      "source": [
        "PROBES_BASE_DIR = Path('data/probes_binary')\n",
        "print_performance_summary(PROBES_BASE_DIR, top_n=10)"
      ]
    },
    {
      "cell_type": "markdown",
      "metadata": {},
      "source": [
        "## 2. Load Inference Engine"
      ]
    },
    {
      "cell_type": "code",
      "execution_count": null,
      "metadata": {},
      "outputs": [],
      "source": [
        "MODEL_NAME = 'google/gemma-3-4b-it'\n",
        "\n",
        "print('Loading probes...')\n",
        "engine = BestMultiProbeInferenceEngine(\n",
        "    probes_base_dir=PROBES_BASE_DIR,\n",
        "    model_name=MODEL_NAME\n",
        ")\n",
        "print('Ready!')"
      ]
    },
    {
      "cell_type": "markdown",
      "metadata": {},
      "source": [
        "## 3. Test on Your Text"
      ]
    },
    {
      "cell_type": "code",
      "execution_count": null,
      "metadata": {},
      "outputs": [],
      "source": [
        "text = '''After receiving feedback, I began reconsidering my approach.\n",
        "I realized I had been making assumptions without fully understanding the constraints.'''\n",
        "\n",
        "predictions = engine.predict(text, top_k=10, threshold=0.1)\n",
        "\n",
        "print('Detected Cognitive Actions:')\n",
        "print('='*70)\n",
        "for i, pred in enumerate(predictions, 1):\n",
        "    marker = '✓' if pred.is_active else '○'\n",
        "    print(f\"{marker} {i:2d}. {pred.action_name:30s} {pred.confidence:6.1%}\")\n",
        "    print(f\"      (Layer {pred.layer}, AUC: {pred.auc:.3f})\")"
      ]
    },
    {
      "cell_type": "markdown",
      "metadata": {},
      "source": [
        "## 4. Compare Two Texts"
      ]
    },
    {
      "cell_type": "code",
      "execution_count": null,
      "metadata": {},
      "outputs": [],
      "source": [
        "text1 = 'Analyzing the data to identify patterns and trends.'\n",
        "text2 = 'Brainstorming creative solutions to the problem.'\n",
        "\n",
        "comparison = engine.compare_texts(text1, text2, top_k=5)\n",
        "\n",
        "print('TEXT 1:', text1)\n",
        "print('\\nTop actions:')\n",
        "for action, conf in comparison['text1_top_actions'][:5]:\n",
        "    print(f'  - {action:30s} {conf:.1%}')\n",
        "\n",
        "print('\\n' + '='*70)\n",
        "print('TEXT 2:', text2)\n",
        "print('\\nTop actions:')\n",
        "for action, conf in comparison['text2_top_actions'][:5]:\n",
        "    print(f'  - {action:30s} {conf:.1%}')"
      ]
    },
    {
      "cell_type": "markdown",
      "metadata": {},
      "source": [
        "## 5. Batch Processing"
      ]
    },
    {
      "cell_type": "code",
      "execution_count": null,
      "metadata": {},
      "outputs": [],
      "source": [
        "texts = [\n",
        "    'Comparing different solutions to find the best approach.',\n",
        "    'Generating creative ideas for the new design.',\n",
        "    'Evaluating the effectiveness of the strategy.'\n",
        "]\n",
        "\n",
        "batch_results = engine.predict_batch(texts, top_k=3, threshold=0.1)\n",
        "\n",
        "for i, (text, preds) in enumerate(zip(texts, batch_results), 1):\n",
        "    print(f'\\n{i}. {text}')\n",
        "    for j, pred in enumerate(preds, 1):\n",
        "        print(f'   {j}. {pred.action_name:30s} {pred.confidence:.1%} (L{pred.layer})')"
      ]
    },
    {
      "cell_type": "markdown",
      "metadata": {},
      "source": [
        "## 6. View Probe Details"
      ]
    },
    {
      "cell_type": "code",
      "execution_count": null,
      "metadata": {},
      "outputs": [],
      "source": [
        "actions = ['analyzing', 'creating', 'metacognitive_regulation']\n",
        "\n",
        "print(f\"{'Action':<35s} {'Layer':>5s} {'AUC':>8s} {'F1':>8s}\")\n",
        "print('-'*60)\n",
        "for action in actions:\n",
        "    info = engine.get_probe_info(action)\n",
        "    print(f\"{info['action']:<35s} {info['layer']:>5d} \"\n",
        "          f\"{info['auc']:>8.4f} {info['f1']:>8.4f}\")"
      ]
    }
  ],
  "metadata": {
    "kernelspec": {
      "display_name": ".venv",
      "language": "python",
      "name": "python3"
    },
    "language_info": {
      "codemirror_mode": {
        "name": "ipython",
        "version": 3
      },
      "file_extension": ".py",
      "mimetype": "text/x-python",
      "name": "python",
      "nbconvert_exporter": "python",
      "pygments_lexer": "ipython3",
      "version": "3.12.3"
    }
  },
  "nbformat": 4,
  "nbformat_minor": 4
}
