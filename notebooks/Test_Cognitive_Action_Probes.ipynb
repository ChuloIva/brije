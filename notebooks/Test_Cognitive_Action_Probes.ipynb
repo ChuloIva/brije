{
 "cells": [
  {
   "cell_type": "markdown",
   "metadata": {},
   "source": [
    "# Cognitive Action Probe Testing\n",
    "\n",
    "Test your trained cognitive action probes on text.\n",
    "\n",
    "**Key Feature**: Automatically loads the best-performing layer for each action."
   ]
  },
  {
   "cell_type": "code",
   "execution_count": null,
   "metadata": {},
   "outputs": [],
   "source": [
    "# IMPORTANT: Set AMD GPU environment variables BEFORE importing torch\n",
    "import os\n",
    "import subprocess\n",
    "\n",
    "def detect_amd_gpu():\n",
    "    try:\n",
    "        result = subprocess.run(['lspci'], capture_output=True, text=True, timeout=2)\n",
    "        return 'Advanced Micro Devices' in result.stdout\n",
    "    except:\n",
    "        return False\n",
    "\n",
    "if detect_amd_gpu():\n",
    "    print(\"AMD GPU detected - configuring ROCm environment variables\")\n",
    "    # PyTorch is compiled for gfx1100, not gfx1101\n",
    "    # Override to use gfx1100 kernels for gfx1101 GPU (RX 7700/7800 XT)\n",
    "    os.environ[\"HSA_OVERRIDE_GFX_VERSION\"] = \"11.0.0\"\n",
    "    os.environ[\"HIP_VISIBLE_DEVICES\"] = \"0\"\n",
    "    os.environ[\"AMD_SERIALIZE_KERNEL\"] = \"3\"\n",
    "    os.environ[\"TORCH_USE_HIP_DSA\"] = \"1\"\n",
    "    os.environ[\"PYTORCH_ROCM_ARCH\"] = \"gfx1100\"  # Use gfx1100 kernels (closest match)\n",
    "    os.environ[\"PYTORCH_HIP_ALLOC_CONF\"] = \"expandable_segments:True\"\n",
    "    os.environ[\"HIP_LAUNCH_BLOCKING\"] = \"1\"  # Synchronous execution for better errors\n",
    "    print(f\"  HSA_OVERRIDE_GFX_VERSION: {os.environ['HSA_OVERRIDE_GFX_VERSION']}\")\n",
    "    print(f\"  PYTORCH_ROCM_ARCH: {os.environ['PYTORCH_ROCM_ARCH']}\")\n",
    "    print(\"  Note: Using gfx1100 kernels for gfx1101 GPU\")\n",
    "else:\n",
    "    print(\"No AMD GPU detected\")"
   ]
  },
  {
   "cell_type": "code",
   "execution_count": null,
   "metadata": {},
   "outputs": [],
   "source": [
    "import sys\n",
    "from pathlib import Path\n",
    "import torch\n",
    "\n",
    "# Add src/probes to path\n",
    "sys.path.insert(0, str(Path.cwd() / 'src' / 'probes'))\n",
    "\n",
    "from best_multi_probe_inference import BestMultiProbeInferenceEngine\n",
    "from best_probe_loader import print_performance_summary"
   ]
  },
  {
   "cell_type": "markdown",
   "metadata": {},
   "source": [
    "## 1. View Probe Performance"
   ]
  },
  {
   "cell_type": "code",
   "execution_count": null,
   "metadata": {},
   "outputs": [],
   "source": [
    "PROBES_BASE_DIR = Path('data/probes_binary')\n",
    "print_performance_summary(PROBES_BASE_DIR, top_n=45)"
   ]
  },
  {
   "cell_type": "markdown",
   "metadata": {},
   "source": [
    "## 2. Load Inference Engine"
   ]
  },
  {
   "cell_type": "code",
   "execution_count": null,
   "metadata": {},
   "outputs": [],
   "source": [
    "MODEL_NAME = 'google/gemma-3-4b-it'\n",
    "\n",
    "print('Loading probes...')\n",
    "engine = BestMultiProbeInferenceEngine(\n",
    "    probes_base_dir=PROBES_BASE_DIR,\n",
    "    model_name=MODEL_NAME\n",
    ")\n",
    "print('Ready!')"
   ]
  },
  {
   "cell_type": "markdown",
   "metadata": {},
   "source": [
    "## 3. Test on Your Text"
   ]
  },
  {
   "cell_type": "code",
   "execution_count": null,
   "metadata": {},
   "outputs": [],
   "source": [
    "text = '''After receiving feedback, I began reconsidering my approach.\n",
    "I realized I had been making assumptions without fully understanding the constraints.'''\n",
    "\n",
    "predictions = engine.predict(text, top_k=10, threshold=0.1)\n",
    "\n",
    "print('Detected Cognitive Actions:')\n",
    "print('='*70)\n",
    "for i, pred in enumerate(predictions, 1):\n",
    "    marker = '✓' if pred.is_active else '○'\n",
    "    print(f\"\\nSentence: {text}\")\n",
    "    print(f\"{marker} {i:2d}. {pred.action_name:30s} {pred.confidence:6.1%}\")\n",
    "    print(f\"      (Layer {pred.layer}, AUC: {pred.auc:.3f})\")\n",
    "    if hasattr(pred, 'beliefs') and pred.beliefs:\n",
    "        print(\"      Beliefs:\")\n",
    "        for belief in pred.beliefs:\n",
    "            print(f\"        - {belief}\")"
   ]
  },
  {
   "cell_type": "markdown",
   "metadata": {},
   "source": [
    "## 4. Compare Two Texts"
   ]
  },
  {
   "cell_type": "code",
   "execution_count": null,
   "metadata": {},
   "outputs": [],
   "source": [
    "text1 = 'Analyzing the data to identify patterns and trends.'\n",
    "text2 = 'Brainstorming creative solutions to the problem.'\n",
    "\n",
    "comparison = engine.compare_texts(text1, text2, top_k=5)\n",
    "\n",
    "print('TEXT 1:', text1)\n",
    "print('\\nTop actions:')\n",
    "for action, conf in comparison['text1_top_actions'][:5]:\n",
    "    print(f'  - {action:30s} {conf:.1%}')\n",
    "\n",
    "print('\\n' + '='*70)\n",
    "print('TEXT 2:', text2)\n",
    "print('\\nTop actions:')\n",
    "for action, conf in comparison['text2_top_actions'][:5]:\n",
    "    print(f'  - {action:30s} {conf:.1%}')"
   ]
  },
  {
   "cell_type": "markdown",
   "metadata": {},
   "source": [
    "## 5. Batch Processing"
   ]
  },
  {
   "cell_type": "code",
   "execution_count": null,
   "metadata": {},
   "outputs": [],
   "source": [
    "texts = [\n",
    "    \"The quarterly numbers look... interesting. Revenue up 12%, but margins down 3%. Customer acquisition costs rising while retention rates plateau. Something doesn't add up here.\",\n",
    "    \"What if we completely flipped the script? Instead of chasing the same customers everyone else wants, what about targeting the segment nobody's paying attention to?\",\n",
    "    \"Last quarter's campaign... we spent $50K on social media ads, got 200 signups, but only 15 converted. That's a 7.5% conversion rate. Industry average is 12%. We're bleeding money.\",\n",
    "    \"That client meeting keeps replaying in my head. Sarah said 'the integration feels clunky' and I brushed it off. Now three clients have mentioned the same thing. I should have listened.\",\n",
    "    \"My brain is scattered. Need to organize this mess: finish the Q4 budget review, prep for tomorrow's board meeting, and draft the hiring plan for next quarter. Otherwise I'll forget something crucial.\",\n",
    "    \"Where are we on the Johnson account? Last I heard, legal was reviewing the contract. Marketing said they'd have the campaign ready by Friday. Finance needs the numbers by end of week. Everything's converging.\",\n",
    "    \"Client feedback from Project Alpha, user research from Beta, and market analysis from Gamma. All pointing in different directions. There's a pattern here I'm not seeing yet.\",\n",
    "    \"Option A: expand to Europe, higher risk but potentially 40% revenue growth. Option B: focus on domestic market, safer but maybe 15% growth. Both have merit. Both have downsides.\",\n",
    "    \"The website keeps crashing during peak hours. Server logs show increased traffic, but that shouldn't cause failures. There's something else going on.\",\n",
    "    \"The interns are lost. I'm throwing terms like 'conversion funnel' and 'attribution modeling' at them. They need the basics first - what we're trying to achieve and why.\",\n",
    "    \"This product launch strategy feels incomplete. Maybe I should bounce ideas off the team. Fresh perspectives could reveal blind spots I'm missing.\",\n",
    "    \"I've been assuming our target demographic is 25-35 year olds. But what if that's wrong? What if I'm basing decisions on outdated assumptions?\",\n",
    "    \"This dashboard is overwhelming. Revenue charts, user engagement metrics, conversion rates, churn analysis. Too much noise. Need to focus on what actually matters.\",\n",
    "    \"The current approach isn't working. Users aren't engaging with the new feature. Maybe we need to pivot. Try a different angle entirely.\",\n",
    "    \"These customer segments look similar on paper - both tech-savvy, both high income. But their behavior patterns are completely different. What am I missing?\",\n",
    "    \"If we launch in Q2 instead of Q1, we'd have more time for testing. But competitors might beat us to market. If we rush Q1, we risk bugs. If we wait, we risk irrelevance.\",\n",
    "    \"The manager's email was vague: 'streamline the process.' What does that mean exactly? Reduce steps? Automate tasks? Cut costs? Need to clarify before I act.\",\n",
    "    \"I'm recommending we increase the marketing budget by 30%. But why? Because last quarter's campaign worked? Because competitors are spending more? Need solid reasoning.\",\n",
    "    \"Sally flagged that our pricing model doesn't account for seasonal fluctuations. She's right. Our revenue projections assume steady demand year-round. That's unrealistic.\",\n",
    "    \"The project timeline is chaotic. Phase 1 should inform Phase 2, which should inform Phase 3. But everything's happening simultaneously. Need to map out dependencies.\",\n",
    "    \"This market research feels biased. The methodology seems sound, but the conclusions feel predetermined. Like they found what they were looking for.\",\n",
    "    \"The correlation between social media engagement and sales is strong. But that doesn't mean social media causes sales. Could be reverse causation, or a third factor entirely.\",\n",
    "    \"Let's test this hypothesis: if our target users really want this feature, they'll use it within the first week. If not, we'll know it's not solving a real problem.\",\n",
    "    \"Both theories explain the data well. Theory A focuses on user behavior, Theory B on market conditions. They're not mutually exclusive, but they emphasize different factors.\",\n",
    "    \"This industry report cites impressive statistics, but I don't recognize the research firm. Need to verify their credibility before I base any decisions on their findings.\",\n",
    "    \"Today's priorities are overwhelming. The client presentation, the budget review, the team meeting, the product demo. Can't do everything. Need to pick what's truly urgent.\",\n",
    "    \"The alternative approach might be better. Current method is familiar, but the new one could be more efficient. Should we compare them side by side before deciding?\",\n",
    "    \"Let me explain this simply: we're not making money because we're spending more to acquire customers than we earn from them. Like buying a $10 item for $15.\",\n",
    "    \"I remember being overwhelmed by all these metrics and KPIs when I started. Jamie looks lost in the same way. Maybe I can help them understand what actually matters.\",\n",
    "    \"Sitting here watching people interact with our app. Some scroll quickly, others pause and tap. Some get frustrated and leave. Others seem to find what they need. Patterns emerging.\"\n",
    "]\n",
    "\n",
    "batch_results = engine.predict_batch(texts, top_k=10, threshold=0.0001)\n",
    "\n",
    "for i, (text, preds) in enumerate(zip(texts, batch_results), 1):\n",
    "    print(f'\\n{i}. {text}')\n",
    "    for j, pred in enumerate(preds, 1):\n",
    "        print(f'   {j}. {pred.action_name:30s} {pred.confidence*100:.8f}% (L{pred.layer})')"
   ]
  },
  {
   "cell_type": "code",
   "execution_count": null,
   "metadata": {},
   "outputs": [],
   "source": []
  }
 ],
 "metadata": {
  "kernelspec": {
   "display_name": ".venv",
   "language": "python",
   "name": "python3"
  },
  "language_info": {
   "codemirror_mode": {
    "name": "ipython",
    "version": 3
   },
   "file_extension": ".py",
   "mimetype": "text/x-python",
   "name": "python",
   "nbconvert_exporter": "python",
   "pygments_lexer": "ipython3",
   "version": "3.12.3"
  }
 },
 "nbformat": 4,
 "nbformat_minor": 4
}
